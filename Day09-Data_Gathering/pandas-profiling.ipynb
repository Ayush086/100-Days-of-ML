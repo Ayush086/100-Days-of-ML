{
 "cells": [
  {
   "cell_type": "markdown",
   "id": "c8b477c9-4b4b-4d4b-8163-82e42390455d",
   "metadata": {},
   "source": [
    "# Pandas Profiling"
   ]
  },
  {
   "cell_type": "markdown",
   "id": "77a165b6-1b99-4b6c-8071-cef94bfe3f88",
   "metadata": {},
   "source": [
    "Pandas-profiling is an open-source Python library that generates detailed reports from a DataFrame. It's designed to provide a comprehensive exploratory data analysis (EDA) with just a single line of code, offering a more extensive review than the traditional df.describe() function in pandas."
   ]
  },
  {
   "cell_type": "code",
   "execution_count": 2,
   "id": "cb250956-0fc0-48fe-8d4a-c765ed0c958e",
   "metadata": {},
   "outputs": [],
   "source": [
    "import pandas as pd"
   ]
  },
  {
   "cell_type": "code",
   "execution_count": 4,
   "id": "44fca94b-6993-43c5-a501-ced57c8a648b",
   "metadata": {},
   "outputs": [],
   "source": [
    "df = pd.read_csv('train.csv')"
   ]
  },
  {
   "cell_type": "code",
   "execution_count": null,
   "id": "376ae1d9-96ae-480f-959f-e4401786f3f3",
   "metadata": {},
   "outputs": [],
   "source": [
    "df.head()"
   ]
  },
  {
   "cell_type": "markdown",
   "id": "a07f37f4-1d6b-41c0-9f7c-ec1109a426ea",
   "metadata": {},
   "source": [
    "## ydata-profiling"
   ]
  },
  {
   "cell_type": "code",
   "execution_count": null,
   "id": "aaeca47e-3938-4fba-b8f6-6dfdce2576ed",
   "metadata": {},
   "outputs": [],
   "source": [
    "!pip install ydata-profiling"
   ]
  },
  {
   "cell_type": "code",
   "execution_count": 17,
   "id": "ff89a415-662c-4e2b-ad1a-db0bc1991bf8",
   "metadata": {},
   "outputs": [],
   "source": [
    "# from ydata_profiling import ProfileReport\n",
    "\n",
    "# df = pd.read_csv('train.csv')\n",
    "# profile = ProfileReport(df, title=\"Profiling Report\")"
   ]
  },
  {
   "cell_type": "code",
   "execution_count": null,
   "id": "94048851-f6a5-4a51-81cf-acb19d80067c",
   "metadata": {},
   "outputs": [],
   "source": [
    "import pandas as pd\n",
    "from ydata_profiling import ProfileReport\n",
    "\n",
    "# Load the CSV file\n",
    "df = pd.read_csv('train.csv')\n",
    "\n",
    "# Create a profile report\n",
    "profile = ProfileReport(df, title=\"Training Data Profile Report\")\n",
    "\n",
    "# Save the report to an HTML file\n",
    "profile.to_file(\"output.html\")\n",
    "\n",
    "# If you are using Jupyter Notebook, you can also display it directly\n",
    "profile.to_notebook_iframe()\n"
   ]
  },
  {
   "cell_type": "code",
   "execution_count": null,
   "id": "edf53718-e34b-421c-9941-982ca0aa2cd2",
   "metadata": {},
   "outputs": [],
   "source": []
  }
 ],
 "metadata": {
  "kernelspec": {
   "display_name": "Python 3 (ipykernel)",
   "language": "python",
   "name": "python3"
  },
  "language_info": {
   "codemirror_mode": {
    "name": "ipython",
    "version": 3
   },
   "file_extension": ".py",
   "mimetype": "text/x-python",
   "name": "python",
   "nbconvert_exporter": "python",
   "pygments_lexer": "ipython3",
   "version": "3.12.4"
  }
 },
 "nbformat": 4,
 "nbformat_minor": 5
}
