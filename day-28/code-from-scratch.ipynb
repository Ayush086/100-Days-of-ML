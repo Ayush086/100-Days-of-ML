{
 "cells": [
  {
   "cell_type": "code",
   "execution_count": null,
   "id": "3db632fb-ab59-4030-95ef-0bf60b7e5a2b",
   "metadata": {},
   "outputs": [],
   "source": [
    "import numpy as np\n",
    "from sklearn.datasets import load_diabetes # ready made dataset"
   ]
  },
  {
   "cell_type": "code",
   "execution_count": null,
   "id": "12e25b87-a7e6-4a5d-92b2-c83e05fad7f3",
   "metadata": {},
   "outputs": [],
   "source": [
    "X, y = load_diabetes(return_X_y=True)"
   ]
  },
  {
   "cell_type": "code",
   "execution_count": null,
   "id": "a4ecd128-764a-4cd5-9da8-b62c2e11b2d3",
   "metadata": {},
   "outputs": [],
   "source": [
    "X"
   ]
  },
  {
   "cell_type": "code",
   "execution_count": null,
   "id": "4b9ba680-8810-4d6a-915c-8fb495dfab9a",
   "metadata": {},
   "outputs": [],
   "source": [
    "X.shape"
   ]
  },
  {
   "cell_type": "code",
   "execution_count": null,
   "id": "5976769b-ee31-4a3a-96a7-6b53d4d598cb",
   "metadata": {},
   "outputs": [],
   "source": [
    "y"
   ]
  },
  {
   "cell_type": "code",
   "execution_count": null,
   "id": "c7c8d204-5779-4ca9-8611-029e1b27d6d3",
   "metadata": {},
   "outputs": [],
   "source": [
    "y.shape"
   ]
  },
  {
   "cell_type": "markdown",
   "id": "008082fb-be63-47a9-b4f9-7dc404643ec7",
   "metadata": {},
   "source": [
    "## Using sklearn's Linear Regression"
   ]
  },
  {
   "cell_type": "code",
   "execution_count": null,
   "id": "2fd2cc8a-0598-4883-bc0b-fae8064239ce",
   "metadata": {},
   "outputs": [],
   "source": [
    "from sklearn.model_selection import train_test_split"
   ]
  },
  {
   "cell_type": "code",
   "execution_count": null,
   "id": "d9c5d35d-15c0-46c2-9aaf-7909b9984df9",
   "metadata": {},
   "outputs": [],
   "source": [
    "X_train, X_test, y_train, y_test = train_test_split(X, y, test_size=.2, random_state=2)"
   ]
  },
  {
   "cell_type": "code",
   "execution_count": null,
   "id": "c07fc51e-e447-487e-86ba-d865aab5d51d",
   "metadata": {},
   "outputs": [],
   "source": [
    "print(X_train.shape)\n",
    "print(X_test.shape)"
   ]
  },
  {
   "cell_type": "code",
   "execution_count": null,
   "id": "3cb92d49-bf37-4a48-9715-ca7bc040002d",
   "metadata": {},
   "outputs": [],
   "source": [
    "from sklearn.linear_model import LinearRegression"
   ]
  },
  {
   "cell_type": "code",
   "execution_count": null,
   "id": "da4c1ff2-00e5-4695-8e39-0beabdc816b5",
   "metadata": {},
   "outputs": [],
   "source": [
    "reg = LinearRegression()"
   ]
  },
  {
   "cell_type": "code",
   "execution_count": null,
   "id": "439f8fe0-c512-4509-8f5c-4305ca606852",
   "metadata": {},
   "outputs": [],
   "source": [
    "reg.fit(X_train, y_train)"
   ]
  },
  {
   "cell_type": "code",
   "execution_count": null,
   "id": "707d697c-09e1-4a5c-a7f1-1dd155a22fee",
   "metadata": {},
   "outputs": [],
   "source": [
    "y_pred = reg.predict(X_test)"
   ]
  },
  {
   "cell_type": "code",
   "execution_count": null,
   "id": "6561c974-b992-4b13-9afd-70999cff472e",
   "metadata": {},
   "outputs": [],
   "source": [
    "from sklearn.metrics import r2_score"
   ]
  },
  {
   "cell_type": "code",
   "execution_count": null,
   "id": "3a67657e-5b3e-40d2-af7c-34ad244982d4",
   "metadata": {},
   "outputs": [],
   "source": [
    "r2_score(y_test, y_pred)"
   ]
  },
  {
   "cell_type": "code",
   "execution_count": null,
   "id": "4b33417e-c77f-4855-b7d6-3ba3a4fc9e6c",
   "metadata": {},
   "outputs": [],
   "source": [
    "# Beta values\n",
    "reg.coef_"
   ]
  },
  {
   "cell_type": "code",
   "execution_count": null,
   "id": "978ddda1-cc2b-409e-9e97-29cefec020a4",
   "metadata": {},
   "outputs": [],
   "source": [
    "# beta not \n",
    "reg.intercept_"
   ]
  },
  {
   "cell_type": "markdown",
   "id": "c3df8b70-fb35-4202-9da4-b28ac8013a08",
   "metadata": {},
   "source": [
    "## Building Own LR class"
   ]
  },
  {
   "cell_type": "code",
   "execution_count": null,
   "id": "97f64144-3ac8-44e2-b443-af417545eb6e",
   "metadata": {},
   "outputs": [],
   "source": [
    "# this code will also work in case of simple linear regression\n",
    "# it's a generic code which will work in higher and lower dimension both\n",
    "class LR:\n",
    "    # constructor\n",
    "    def __init__(self):\n",
    "        self.coef_ = None\n",
    "        self.intercept_ = None\n",
    "\n",
    "    def fit(self, X_train, y_train):\n",
    "    # need to calculate Beta matrix that's it\n",
    "        X_train = np.insert(X_train, 0, 1, axis=1)\n",
    "\n",
    "        # coeffs calc\n",
    "        beta_values = np.linalg.inv(np.dot(X_train.T, X_train)).dot(X_train.T).dot(y_train) # X matrix\n",
    "        self.intercept_ = beta_values[0]\n",
    "        self.coef_ = beta_values[1:]\n",
    "        \n",
    "    def predict(self, X_test):\n",
    "        y_pred = np.dot(X_test, self.coef_) + self.intercept_\n",
    "        return y_pred"
   ]
  },
  {
   "cell_type": "code",
   "execution_count": null,
   "id": "a22c2ac9-4462-43d3-b2d8-9ea381175f9b",
   "metadata": {},
   "outputs": [],
   "source": [
    "lr = LR()"
   ]
  },
  {
   "cell_type": "code",
   "execution_count": null,
   "id": "91cc6986-cbd7-49b8-b460-378e88487b33",
   "metadata": {},
   "outputs": [],
   "source": [
    "lr.fit(X_train, y_train)"
   ]
  },
  {
   "cell_type": "code",
   "execution_count": null,
   "id": "b5b0b313-f0e9-471a-b72c-38ada8e7a875",
   "metadata": {},
   "outputs": [],
   "source": [
    "y_pred = lr.predict(X_test)"
   ]
  },
  {
   "cell_type": "code",
   "execution_count": null,
   "id": "93800d8b-d79b-44dc-817f-9c4956c13376",
   "metadata": {},
   "outputs": [],
   "source": [
    "# calc r2-score for my model\n",
    "r2_score(y_test, y_pred)"
   ]
  },
  {
   "cell_type": "code",
   "execution_count": null,
   "id": "5531da72-8566-45f0-b17a-385dc0c8789e",
   "metadata": {},
   "outputs": [],
   "source": [
    "lr.coef_"
   ]
  },
  {
   "cell_type": "code",
   "execution_count": null,
   "id": "15fc5ea9-3bc4-4ec9-9fed-818bf6806230",
   "metadata": {},
   "outputs": [],
   "source": [
    "lr.intercept_"
   ]
  },
  {
   "cell_type": "code",
   "execution_count": null,
   "id": "a82c8c5c-3248-4fff-8d55-3d7fba82fa1d",
   "metadata": {},
   "outputs": [],
   "source": []
  }
 ],
 "metadata": {
  "kernelspec": {
   "display_name": "Python 3 (ipykernel)",
   "language": "python",
   "name": "python3"
  },
  "language_info": {
   "codemirror_mode": {
    "name": "ipython",
    "version": 3
   },
   "file_extension": ".py",
   "mimetype": "text/x-python",
   "name": "python",
   "nbconvert_exporter": "python",
   "pygments_lexer": "ipython3",
   "version": "3.12.4"
  }
 },
 "nbformat": 4,
 "nbformat_minor": 5
}
