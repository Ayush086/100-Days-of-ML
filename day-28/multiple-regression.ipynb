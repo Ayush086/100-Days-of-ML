{
 "cells": [
  {
   "cell_type": "code",
   "execution_count": null,
   "id": "e73566f3-f34c-4b44-a29c-be0ce69a2309",
   "metadata": {},
   "outputs": [],
   "source": [
    "from sklearn.datasets import make_regression # used to create n-dim LR dataset\n",
    "import pandas as pd \n",
    "import numpy as np\n",
    "\n",
    "import plotly.express as px\n",
    "import plotly.graph_objects as go\n",
    "\n",
    "from sklearn.metrics import mean_absolute_error, mean_squared_error, r2_score"
   ]
  },
  {
   "cell_type": "code",
   "execution_count": null,
   "id": "b42472ab-1110-47ba-97f8-5f82e7b40b3a",
   "metadata": {},
   "outputs": [],
   "source": [
    "# creating own linear regression dataset\n",
    "X, y = make_regression(n_samples= 100, n_features=2, n_informative=2, n_targets=1, noise=50)"
   ]
  },
  {
   "cell_type": "code",
   "execution_count": null,
   "id": "1a8cc462-8327-4609-a52f-df5d2053382a",
   "metadata": {},
   "outputs": [],
   "source": [
    "df = pd.DataFrame({'feature1': X[:, 0], 'feature2': X[:, 1], 'target':y })"
   ]
  },
  {
   "cell_type": "code",
   "execution_count": null,
   "id": "8b307711-4401-443e-95d7-c5973dc84db1",
   "metadata": {},
   "outputs": [],
   "source": [
    "df.shape"
   ]
  },
  {
   "cell_type": "code",
   "execution_count": null,
   "id": "42fd73cc-8f95-4573-991e-3e64a456be68",
   "metadata": {},
   "outputs": [],
   "source": [
    "df.head()"
   ]
  },
  {
   "cell_type": "code",
   "execution_count": null,
   "id": "9314fdfd-f726-4f67-b542-63c0659887a9",
   "metadata": {},
   "outputs": [],
   "source": [
    "# data distribution\n",
    "fig = px.scatter_3d(df, x ='feature1', y = 'feature2', z = 'target')\n",
    "fig.show()"
   ]
  },
  {
   "cell_type": "code",
   "execution_count": null,
   "id": "a96e7014-663e-4dba-9441-e524a2a0fa58",
   "metadata": {},
   "outputs": [],
   "source": [
    "# train test split\n",
    "from sklearn.model_selection import train_test_split\n",
    "X_train, X_test, y_train, y_test = train_test_split(X, y, test_size=.2, random_state=3)"
   ]
  },
  {
   "cell_type": "code",
   "execution_count": null,
   "id": "a185936d-d6f2-4062-a54e-e566b7f57361",
   "metadata": {},
   "outputs": [],
   "source": [
    "from sklearn.linear_model import LinearRegression"
   ]
  },
  {
   "cell_type": "code",
   "execution_count": null,
   "id": "a6c4dc34-3981-4678-ad69-61d120cfec66",
   "metadata": {},
   "outputs": [],
   "source": [
    "lr = LinearRegression()\n",
    "lr.fit(X_train, y_train)"
   ]
  },
  {
   "cell_type": "code",
   "execution_count": null,
   "id": "5c5904f2-6445-4b6f-847b-8708001c52b6",
   "metadata": {},
   "outputs": [],
   "source": [
    "y_pred = lr.predict(X_test)\n",
    "y_pred"
   ]
  },
  {
   "cell_type": "code",
   "execution_count": null,
   "id": "88541727-50a2-4e27-8440-c12675491eec",
   "metadata": {},
   "outputs": [],
   "source": [
    "print('MAE: ', mean_absolute_error(y_test, y_pred))\n",
    "print('MSE: ', mean_squared_error(y_test, y_pred))\n",
    "print('R2 score: ', r2_score(y_test, y_pred))"
   ]
  },
  {
   "cell_type": "code",
   "execution_count": null,
   "id": "c3f5577e-fa7d-4086-b1cc-278f021094c6",
   "metadata": {},
   "outputs": [],
   "source": [
    "# drawing best fit plane\n",
    "x = np.linspace(-5, 5, 10)\n",
    "y = np.linspace(-5, 5, 10)\n",
    "xGrid, yGrid = np.meshgrid(y, x)\n",
    "\n",
    "final = np.vstack((xGrid.ravel().reshape(1,100),yGrid.ravel().reshape(1,100))).T\n",
    "\n",
    "z_final = lr.predict(final).reshape(10,10)\n",
    "\n",
    "z = z_final\n"
   ]
  },
  {
   "cell_type": "code",
   "execution_count": null,
   "id": "4c002897-d57f-4a0a-ab9b-d42b989e65a4",
   "metadata": {},
   "outputs": [],
   "source": [
    "# plot with plane\n",
    "fig = px.scatter_3d(df, x='feature1', y='feature2', z='target')\n",
    "\n",
    "fig.add_trace(go.Surface(x = x, y = y, z =z ))\n",
    "\n",
    "fig.show()"
   ]
  },
  {
   "cell_type": "code",
   "execution_count": null,
   "id": "c29d4598-bbc7-475f-99d2-d03059b88e84",
   "metadata": {},
   "outputs": [],
   "source": [
    "lr.coef_"
   ]
  },
  {
   "cell_type": "code",
   "execution_count": null,
   "id": "e240c3a0-d417-4915-9fbb-eac343112cec",
   "metadata": {},
   "outputs": [],
   "source": [
    "lr.intercept_"
   ]
  }
 ],
 "metadata": {
  "kernelspec": {
   "display_name": "Python 3 (ipykernel)",
   "language": "python",
   "name": "python3"
  },
  "language_info": {
   "codemirror_mode": {
    "name": "ipython",
    "version": 3
   },
   "file_extension": ".py",
   "mimetype": "text/x-python",
   "name": "python",
   "nbconvert_exporter": "python",
   "pygments_lexer": "ipython3",
   "version": "3.12.4"
  }
 },
 "nbformat": 4,
 "nbformat_minor": 5
}
