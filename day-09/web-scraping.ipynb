{
 "cells": [
  {
   "cell_type": "code",
   "execution_count": null,
   "id": "0d0e79f5-59a1-4fc6-9020-b6c11ae12602",
   "metadata": {},
   "outputs": [],
   "source": [
    "import pandas as pd\n",
    "import requests\n",
    "from bs4 import BeautifulSoup # used for web scraping"
   ]
  },
  {
   "cell_type": "code",
   "execution_count": null,
   "id": "2df54ee8-859f-4e0d-9240-b20d3d18b3f7",
   "metadata": {},
   "outputs": [],
   "source": [
    "# create a http request\n",
    "headers = {'User-Agent': 'Mozilla/5.0 (Windows NT 6.3; Win64; x64) AppleWebKit/537.36 (KHTML, like Gecko) Chrome/58.0.3029.110 Safari/537.3'}\n",
    "response = requests.get('https://www.ambitionbox.com/list-of-companies?page=1', headers=headers).text"
   ]
  },
  {
   "cell_type": "code",
   "execution_count": null,
   "id": "3b0c05ab-5f29-40de-8341-aec39a7e8aec",
   "metadata": {},
   "outputs": [],
   "source": [
    "print(response)"
   ]
  },
  {
   "cell_type": "code",
   "execution_count": null,
   "id": "abe16dba-01ab-4b97-8a3b-dc5528c5c075",
   "metadata": {},
   "outputs": [],
   "source": [
    "soup = BeautifulSoup(response, 'lxml')"
   ]
  },
  {
   "cell_type": "code",
   "execution_count": null,
   "id": "4fc1e3ff-a192-45d2-ad19-280769f34a2f",
   "metadata": {},
   "outputs": [],
   "source": [
    "print(soup.prettify())"
   ]
  },
  {
   "cell_type": "code",
   "execution_count": null,
   "id": "4477c464-7783-4ebf-be6d-1b4e23bab133",
   "metadata": {},
   "outputs": [],
   "source": [
    "# extract heding from the div\n",
    "soup.find_all('h1')[0].text"
   ]
  },
  {
   "cell_type": "code",
   "execution_count": null,
   "id": "56d9f661-c8fb-4b33-95ce-9c9191a46628",
   "metadata": {},
   "outputs": [],
   "source": [
    "# extracting companies names\n",
    "for i in soup.find_all('h2'):\n",
    "  print(i.text.string())"
   ]
  },
  {
   "cell_type": "code",
   "execution_count": null,
   "id": "27a5466a-4af2-40f1-a9ba-e4ab1d2bfb5d",
   "metadata": {},
   "outputs": [],
   "source": [
    "soup.find_all('p', class_ = 'companyCardWrapper__companyRatingValue') # extract ratings"
   ]
  },
  {
   "cell_type": "code",
   "execution_count": null,
   "id": "d21f3b99-73ac-42d5-b09c-0778668b2a58",
   "metadata": {},
   "outputs": [],
   "source": [
    "company =soup.find_all('div', class_ = \"companyCardWrapper__primaryInformation\")\n",
    "len(company)"
   ]
  },
  {
   "cell_type": "code",
   "execution_count": null,
   "id": "04c86364-9c47-4832-8ae6-7d731e8190ef",
   "metadata": {},
   "outputs": [],
   "source": [
    "name = []\n",
    "rating = []\n",
    "employeeCount = []\n",
    "\n",
    "# looping through every div to extract all companies names\n",
    "for i in company:\n",
    "    companyName = i.find_all('h2').text.strip()  # find_all --> multiple ans\n",
    "    name.append(companyName)\n",
    "    rating.append(i.find('p', class_='companyCardWrapper__companyRatingValue')[0].text.strip())  #find --> single ans\n",
    "    employeeCount.append(i.find_all('p', class_='infoEntity')[0].text.strip())\n",
    "    \n",
    "d = {'name': name, 'rating': rating, 'employees': employeeCount}\n",
    "df = pd.DataFrame(d)\n",
    "df"
   ]
  },
  {
   "cell_type": "code",
   "execution_count": null,
   "id": "3ba888de-7053-478f-ae81-f1953aea6b79",
   "metadata": {},
   "outputs": [],
   "source": [
    "name"
   ]
  },
  {
   "cell_type": "code",
   "execution_count": null,
   "id": "99fef267-7a8b-4245-9c4b-e399e96a740d",
   "metadata": {},
   "outputs": [],
   "source": [
    "rating"
   ]
  }
 ],
 "metadata": {
  "kernelspec": {
   "display_name": "Python 3 (ipykernel)",
   "language": "python",
   "name": "python3"
  },
  "language_info": {
   "codemirror_mode": {
    "name": "ipython",
    "version": 3
   },
   "file_extension": ".py",
   "mimetype": "text/x-python",
   "name": "python",
   "nbconvert_exporter": "python",
   "pygments_lexer": "ipython3",
   "version": "3.12.4"
  }
 },
 "nbformat": 4,
 "nbformat_minor": 5
}
