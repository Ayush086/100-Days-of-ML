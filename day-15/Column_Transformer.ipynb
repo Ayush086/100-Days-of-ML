{
 "cells": [
  {
   "cell_type": "code",
   "execution_count": null,
   "id": "cb5657e0-ac65-49ad-a5ea-4c79866a125a",
   "metadata": {},
   "outputs": [],
   "source": [
    "import numpy as np\n",
    "import pandas as pd"
   ]
  },
  {
   "cell_type": "code",
   "execution_count": null,
   "id": "37e075c9-c0e3-4443-9550-735f61009ee5",
   "metadata": {},
   "outputs": [],
   "source": [
    "from sklearn.impute import SimpleImputer\n",
    "from sklearn.preprocessing import OneHotEncoder\n",
    "from sklearn.preprocessing import OrdinalEncoder"
   ]
  },
  {
   "cell_type": "code",
   "execution_count": null,
   "id": "15e259e2-8681-40c2-871a-1969065a8409",
   "metadata": {},
   "outputs": [],
   "source": [
    "df = pd.read_csv('covid_toy.csv')"
   ]
  },
  {
   "cell_type": "code",
   "execution_count": null,
   "id": "bb14ba98-1245-4ad4-8ff7-161a5ea11220",
   "metadata": {},
   "outputs": [],
   "source": [
    "df.head()"
   ]
  },
  {
   "cell_type": "code",
   "execution_count": null,
   "id": "59a825fe-f544-4b3b-867e-5f5a052598a4",
   "metadata": {},
   "outputs": [],
   "source": [
    "df['city'].value_counts()"
   ]
  },
  {
   "cell_type": "code",
   "execution_count": null,
   "id": "4b105b2a-94b5-4e28-be87-feb66cd60389",
   "metadata": {
    "editable": true,
    "slideshow": {
     "slide_type": ""
    },
    "tags": []
   },
   "outputs": [],
   "source": [
    "# 'fever' col contains null values\n",
    "# OHE: gender, city\n",
    "# OE: cough\n",
    "# Age: simple imputer"
   ]
  },
  {
   "cell_type": "code",
   "execution_count": null,
   "id": "a66aac41-ade7-40b1-8365-47197632ee3b",
   "metadata": {},
   "outputs": [],
   "source": [
    "from sklearn.model_selection import train_test_split\n",
    "X_train, X_test, y_train, y_test = train_test_split(df.drop(columns=['has_covid']), df['has_covid'], test_size = 0.2)"
   ]
  },
  {
   "cell_type": "code",
   "execution_count": null,
   "id": "69ecca36-7b2d-4ca7-a823-83ed1d07861f",
   "metadata": {},
   "outputs": [],
   "source": [
    "X_train"
   ]
  },
  {
   "cell_type": "markdown",
   "id": "9c7a8346-388e-4823-bb85-9aaecdc5a768",
   "metadata": {},
   "source": [
    "### Separate Transformation\n",
    "*performing each transformation separately and then merging them*"
   ]
  },
  {
   "cell_type": "code",
   "execution_count": null,
   "id": "036a2cb4-f620-470d-90f4-b1f88beb065a",
   "metadata": {},
   "outputs": [],
   "source": [
    "# adding simple imputer to fever\n",
    "si = SimpleImputer()\n",
    "X_train_fever = si.fit_transform(X_train[['fever']])\n",
    "\n",
    "X_test_fever = si.fit_transform(X_test[['fever']])\n",
    "\n",
    "X_train_fever.shape\n",
    "# X_train_fever"
   ]
  },
  {
   "cell_type": "code",
   "execution_count": null,
   "id": "b1588a8a-1fc3-4c1c-ae37-31a66d062a37",
   "metadata": {},
   "outputs": [],
   "source": [
    "# ordinal encoding: cough\n",
    "oe = OrdinalEncoder(categories=[['Mild', 'Strong']])\n",
    "X_train_cough = oe.fit_transform(X_train[['cough']])\n",
    "\n",
    "X_test_cough = oe.fit_transform(X_test[['cough']])\n",
    "\n",
    "X_train_cough.shape"
   ]
  },
  {
   "cell_type": "code",
   "execution_count": null,
   "id": "89e1505f-01e6-4e48-99b4-5c385f1e49ae",
   "metadata": {},
   "outputs": [],
   "source": [
    "#One hot encoding: gender, city\n",
    "ohe = OneHotEncoder(drop='first',sparse_output=False)\n",
    "X_train_gender_city = ohe.fit_transform(X_train[['gender', 'city']])\n",
    "\n",
    "X_test_gender_city = ohe.fit_transform(X_test[['gender', 'city']])\n",
    "\n",
    "X_train_gender_city.shape"
   ]
  },
  {
   "cell_type": "code",
   "execution_count": null,
   "id": "85fadfd8-3690-4e81-9f85-f7f400f32a8a",
   "metadata": {},
   "outputs": [],
   "source": [
    "# age extraction\n",
    "X_train_age = X_train.drop(columns=['gender', 'fever', 'cough', 'city']).values\n",
    "\n",
    "X_test_age = X_test.drop(columns=['gender', 'fever', 'cough', 'city']).values\n",
    "\n",
    "X_train_age.shape"
   ]
  },
  {
   "cell_type": "code",
   "execution_count": null,
   "id": "d3941a23-2d00-4b39-99f1-2a1802e23bff",
   "metadata": {},
   "outputs": [],
   "source": [
    "# concatenating all the transformed data\n",
    "X_train_transformed = np.concatenate((X_train_age, X_train_fever, X_train_gender_city, X_train_cough), axis = 1)\n",
    "\n",
    "X_test_transformed = np.concatenate((X_test_age, X_test_fever, X_test_gender_city, X_test_cough), axis = 1)\n",
    "\n",
    "X_train_transformed.shape\n",
    "X_train_transformed"
   ]
  },
  {
   "cell_type": "markdown",
   "id": "f1054ae9-65b9-4446-ad9d-22c5c86c833a",
   "metadata": {},
   "source": [
    "## All in one using Column Transformer"
   ]
  },
  {
   "cell_type": "code",
   "execution_count": null,
   "id": "77b2c069-dc5a-4b74-9664-ddd3bf5dbe82",
   "metadata": {},
   "outputs": [],
   "source": [
    "from sklearn.compose import ColumnTransformer"
   ]
  },
  {
   "cell_type": "code",
   "execution_count": null,
   "id": "2f84139a-4b3a-4274-874b-291dcdae985b",
   "metadata": {},
   "outputs": [],
   "source": [
    "# transforming from one command\n",
    "transformer = ColumnTransformer(transformers=[\n",
    "    ('tnf1',SimpleImputer(),['fever']),\n",
    "    ('tnf2',OrdinalEncoder(categories=[['Mild','Strong']]),['cough']),\n",
    "    ('tnf3',OneHotEncoder(sparse_output=False,drop='first'),['gender','city'])\n",
    "],remainder='passthrough')"
   ]
  },
  {
   "cell_type": "code",
   "execution_count": null,
   "id": "90a5a657-0b6b-4a2e-9873-0899a7b60f4f",
   "metadata": {},
   "outputs": [],
   "source": [
    "transformer.fit_transform(X_train).shape"
   ]
  },
  {
   "cell_type": "code",
   "execution_count": null,
   "id": "51a60c64-c4cb-4b47-ad69-325da6d36a17",
   "metadata": {},
   "outputs": [],
   "source": [
    "transformer.transform(X_test).shape"
   ]
  },
  {
   "cell_type": "code",
   "execution_count": null,
   "id": "b18977d4-32d0-40f4-80d3-2a5e710facac",
   "metadata": {},
   "outputs": [],
   "source": []
  }
 ],
 "metadata": {
  "kernelspec": {
   "display_name": "Python 3 (ipykernel)",
   "language": "python",
   "name": "python3"
  },
  "language_info": {
   "codemirror_mode": {
    "name": "ipython",
    "version": 3
   },
   "file_extension": ".py",
   "mimetype": "text/x-python",
   "name": "python",
   "nbconvert_exporter": "python",
   "pygments_lexer": "ipython3",
   "version": "3.12.4"
  }
 },
 "nbformat": 4,
 "nbformat_minor": 5
}
