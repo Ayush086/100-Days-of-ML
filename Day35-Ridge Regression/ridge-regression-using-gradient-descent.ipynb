{
 "cells": [
  {
   "cell_type": "markdown",
   "id": "0c1763b2-7741-4568-8887-3ce502867ae3",
   "metadata": {},
   "source": [
    "### Using sklearn's ridge regression with gradient descent"
   ]
  },
  {
   "cell_type": "code",
   "execution_count": null,
   "id": "274661d7-2536-4869-a000-95dafdd7dbe1",
   "metadata": {},
   "outputs": [],
   "source": [
    "from sklearn.datasets import load_diabetes\n",
    "from sklearn.metrics import r2_score\n",
    "import numpy as np"
   ]
  },
  {
   "cell_type": "code",
   "execution_count": null,
   "id": "378a9776-c558-4ca6-b4ee-b7bbfbbb9d6d",
   "metadata": {},
   "outputs": [],
   "source": [
    "X, y = load_diabetes(return_X_y=True)"
   ]
  },
  {
   "cell_type": "code",
   "execution_count": null,
   "id": "e99d03cd-c040-46f6-bd30-2429cfb662e2",
   "metadata": {},
   "outputs": [],
   "source": [
    "from sklearn.model_selection import train_test_split"
   ]
  },
  {
   "cell_type": "code",
   "execution_count": null,
   "id": "374b3142-5210-44c8-bb4f-c7d301e95e50",
   "metadata": {},
   "outputs": [],
   "source": [
    "X_train, X_test, y_train, y_test = train_test_split(X, y, test_size=.2, random_state=4)"
   ]
  },
  {
   "cell_type": "code",
   "execution_count": null,
   "id": "79076239-537e-40b6-9ddb-ad3512a22939",
   "metadata": {},
   "outputs": [],
   "source": [
    "from sklearn.linear_model import SGDRegressor"
   ]
  },
  {
   "cell_type": "code",
   "execution_count": null,
   "id": "f509b6c2-5e5d-41d2-9d1b-99844b2e30c2",
   "metadata": {},
   "outputs": [],
   "source": [
    "reg = SGDRegressor(penalty='l2', max_iter=500, eta0=.1, learning_rate='constant', alpha=.001)"
   ]
  },
  {
   "cell_type": "code",
   "execution_count": null,
   "id": "1203d261-521d-48a8-82d4-84688fe696a9",
   "metadata": {},
   "outputs": [],
   "source": [
    "reg.fit(X_train, y_train)\n",
    "\n",
    "y_pred = reg.predict(X_test)\n",
    "print('r2 score: ', r2_score(y_test, y_pred))\n",
    "print(reg.coef_)\n",
    "print(reg.intercept_)"
   ]
  },
  {
   "cell_type": "code",
   "execution_count": null,
   "id": "1cb03412-d1a4-4a75-9655-1f8b5b65b19f",
   "metadata": {},
   "outputs": [],
   "source": [
    "from sklearn.linear_model import Ridge\n",
    "reg = Ridge(alpha=.001, max_iter=500, solver='sparse_cg') # sparse_cg - gradient descent"
   ]
  },
  {
   "cell_type": "code",
   "execution_count": null,
   "id": "413c058b-7dff-4d6f-a9d7-001737bf2ceb",
   "metadata": {},
   "outputs": [],
   "source": [
    "reg.fit(X_train, y_train)\n",
    "\n",
    "y_pred = reg.predict(X_test)\n",
    "print('r2 score: ', r2_score(y_test, y_pred))\n",
    "print(reg.coef_)\n",
    "print(reg.intercept_)"
   ]
  },
  {
   "cell_type": "markdown",
   "id": "5ad5d78f-f3e2-4dc0-ac75-2a77cc20215d",
   "metadata": {},
   "source": [
    "### Implementation by own"
   ]
  },
  {
   "cell_type": "code",
   "execution_count": null,
   "id": "7278a7ff-e720-4886-9c41-8f24075bed00",
   "metadata": {},
   "outputs": [],
   "source": [
    "class ridgeRegressorGD:\n",
    "    # constructor\n",
    "    def __init__(self, epochs, learning_rate, alpha):\n",
    "        self.learning_rate = learning_rate\n",
    "        self.epochs = epochs\n",
    "        self.alpha = alpha\n",
    "        self.coef_ = None\n",
    "        self.intercept_ = None\n",
    "\n",
    "    def fit(self, X_train, y_train):\n",
    "        # initialize values\n",
    "        self.coef_ = np.ones(X_train.shape[1])\n",
    "        self.intercept_ = 0\n",
    "\n",
    "        # W-matrix (n+1, 1)\n",
    "        theta = np.insert(self.coef_, 0, self.intercept_)\n",
    "\n",
    "        X_train = np.insert(X_train, 0, 1, axis=1) # adding extra col for intercept value\n",
    "        for i in range(self.epochs):\n",
    "            # loss function\n",
    "            derivative = np.dot(X_train.T, X_train).dot(theta) - np.dot(X_train.T, y_train) + (self.alpha * theta)\n",
    "            theta -= self.learning_rate * derivative # update value\n",
    "\n",
    "        self.coef_ = theta[1: ]\n",
    "        self.intercept_ = theta[0]\n",
    "\n",
    "        print(self.coef_)\n",
    "        print(self.intercept_)\n",
    "\n",
    "\n",
    "    def predict(self, X_test):\n",
    "        return np.dot(X_test, self.coef_) + self.intercept_\n",
    "        "
   ]
  },
  {
   "cell_type": "code",
   "execution_count": null,
   "id": "764c479e-3bb4-438f-81d2-2770e04f89a0",
   "metadata": {},
   "outputs": [],
   "source": [
    "reg = ridgeRegressorGD(epochs=500, alpha=.001, learning_rate= .005)"
   ]
  },
  {
   "cell_type": "code",
   "execution_count": null,
   "id": "30e07cd8-506e-45bf-9a5e-4922625d41ef",
   "metadata": {},
   "outputs": [],
   "source": [
    "reg.fit(X_train, y_train)"
   ]
  },
  {
   "cell_type": "code",
   "execution_count": null,
   "id": "ca9db624-8c3b-42a2-a70d-148bced51470",
   "metadata": {},
   "outputs": [],
   "source": [
    "y_pred = reg.predict(X_test)"
   ]
  },
  {
   "cell_type": "code",
   "execution_count": null,
   "id": "612c0031-ad4c-4a76-8008-f939ffb9dfd7",
   "metadata": {},
   "outputs": [],
   "source": [
    "r2_score(y_test, y_pred)"
   ]
  },
  {
   "cell_type": "markdown",
   "id": "06feb60c-7fa7-4df3-a654-20b75eb62936",
   "metadata": {},
   "source": [
    "*Somehow my class performed more better than sklearn's model, it's nice but need to be checked*"
   ]
  },
  {
   "cell_type": "code",
   "execution_count": null,
   "id": "bdc0b9b2-e206-4928-b7f3-9d6698347e8c",
   "metadata": {},
   "outputs": [],
   "source": []
  }
 ],
 "metadata": {
  "kernelspec": {
   "display_name": "Python 3 (ipykernel)",
   "language": "python",
   "name": "python3"
  },
  "language_info": {
   "codemirror_mode": {
    "name": "ipython",
    "version": 3
   },
   "file_extension": ".py",
   "mimetype": "text/x-python",
   "name": "python",
   "nbconvert_exporter": "python",
   "pygments_lexer": "ipython3",
   "version": "3.12.4"
  }
 },
 "nbformat": 4,
 "nbformat_minor": 5
}
