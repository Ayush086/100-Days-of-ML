{
 "cells": [
  {
   "cell_type": "code",
   "execution_count": null,
   "id": "6f61c3b9-ed92-4da7-b739-7a7102e60166",
   "metadata": {},
   "outputs": [],
   "source": [
    "import numpy as np\n",
    "import pandas as pd\n",
    "import matplotlib.pyplot as plt"
   ]
  },
  {
   "cell_type": "code",
   "execution_count": null,
   "id": "8fc75214-78a0-4357-bf1d-4924502db091",
   "metadata": {},
   "outputs": [],
   "source": [
    "from sklearn.datasets import load_diabetes\n",
    "data = load_diabetes()"
   ]
  },
  {
   "cell_type": "code",
   "execution_count": null,
   "id": "1d236adf-bd78-4507-86c5-2d3da920e4ca",
   "metadata": {},
   "outputs": [],
   "source": [
    "print(data.DESCR)"
   ]
  },
  {
   "cell_type": "markdown",
   "id": "8b9a7f65-b451-44e0-96cc-e8a281d81634",
   "metadata": {},
   "source": [
    "*First I tried to apply linear regression without regularization and then performed Ridge Regularization and applied linear regression again to compare the impact of regularization*"
   ]
  },
  {
   "cell_type": "code",
   "execution_count": null,
   "id": "83fc4d73-8285-4ef7-8765-b509f493fc49",
   "metadata": {},
   "outputs": [],
   "source": [
    "X = data.data\n",
    "y = data.target"
   ]
  },
  {
   "cell_type": "code",
   "execution_count": null,
   "id": "daf3dde6-fa65-428c-bfc3-18a8c6e6d248",
   "metadata": {},
   "outputs": [],
   "source": [
    "from sklearn.model_selection import train_test_split\n",
    "X_train, X_test, y_train, y_test = train_test_split(X, y, test_size=.2, random_state=45)\n"
   ]
  },
  {
   "cell_type": "code",
   "execution_count": null,
   "id": "b86e6b2c-4b68-4a08-9275-5438fddafa7d",
   "metadata": {},
   "outputs": [],
   "source": [
    "from sklearn.linear_model import LinearRegression\n",
    "lr = LinearRegression()"
   ]
  },
  {
   "cell_type": "code",
   "execution_count": null,
   "id": "33ba21fa-52e2-4d03-8783-ef478a879c74",
   "metadata": {},
   "outputs": [],
   "source": [
    "lr.fit(X_train, y_train)"
   ]
  },
  {
   "cell_type": "code",
   "execution_count": null,
   "id": "12da47b1-23ab-4fac-b088-1a252e08d1ea",
   "metadata": {},
   "outputs": [],
   "source": [
    "y_pred = lr.predict(X_test)"
   ]
  },
  {
   "cell_type": "code",
   "execution_count": null,
   "id": "ad6c84c7-06ac-4262-afc1-fdffdf7b003d",
   "metadata": {},
   "outputs": [],
   "source": [
    "from sklearn.metrics import r2_score, mean_squared_error"
   ]
  },
  {
   "cell_type": "code",
   "execution_count": null,
   "id": "692a2b7f-5a1f-437b-be43-b36d39420ae9",
   "metadata": {},
   "outputs": [],
   "source": [
    "print(\"r2 score\", r2_score(y_test, y_pred))\n",
    "print('RMSE ', mean_squared_error(y_test, y_pred))"
   ]
  },
  {
   "cell_type": "code",
   "execution_count": null,
   "id": "6338997a-b56e-4efc-87d4-9a3c6a51ebab",
   "metadata": {},
   "outputs": [],
   "source": [
    "# ridge regularization\n",
    "from sklearn.linear_model import Ridge\n",
    "r = Ridge(alpha=.0001) # alpha - lambda value"
   ]
  },
  {
   "cell_type": "code",
   "execution_count": null,
   "id": "fd87119c-c6fa-417f-b54d-3a78d1494746",
   "metadata": {},
   "outputs": [],
   "source": [
    "r.fit(X_train, y_train)"
   ]
  },
  {
   "cell_type": "code",
   "execution_count": null,
   "id": "78f9e942-f8eb-4a33-a3af-76e29e0bbadd",
   "metadata": {},
   "outputs": [],
   "source": [
    "y_pred2 = r.predict(X_test)"
   ]
  },
  {
   "cell_type": "code",
   "execution_count": null,
   "id": "0f525bfc-5e57-4658-8887-6ed9d677f878",
   "metadata": {},
   "outputs": [],
   "source": [
    "print('r2 score ', r2_score(y_test, y_pred2))\n",
    "print('rmse ', mean_squared_error(y_test, y_pred2))"
   ]
  },
  {
   "cell_type": "markdown",
   "id": "67fa6017-5c12-4475-b998-e41cce65be71",
   "metadata": {},
   "source": [
    "*there is no major change in scores but yeah  there is a slight change in the score which signifies it impacts the behaviour of the line*"
   ]
  },
  {
   "cell_type": "code",
   "execution_count": null,
   "id": "e9b53e98-6892-47f0-a661-f8156812e66a",
   "metadata": {},
   "outputs": [],
   "source": [
    "m =100\n",
    "x1 = 5 * np.random.rand(m, 1) - 2\n",
    "x2 = .7*x1**2 - 2*x1 + 3 + np.random.randn(m, 1)\n",
    "\n",
    "plt.scatter(x1, x2)\n",
    "plt.show()"
   ]
  },
  {
   "cell_type": "markdown",
   "id": "fac4ddc0-f308-46f4-8708-82a2f0a69f1b",
   "metadata": {},
   "source": [
    "trying to understand the overfitting and underfitting in case of ridge regularization"
   ]
  },
  {
   "cell_type": "code",
   "execution_count": null,
   "id": "1d8249d0-42d2-48c2-8d67-bd267290f8ba",
   "metadata": {},
   "outputs": [],
   "source": [
    "from sklearn.pipeline import Pipeline\n",
    "from sklearn.preprocessing import PolynomialFeatures\n",
    "\n",
    "def get_preds_ridge(x1, x2, alpha):\n",
    "    model = Pipeline([\n",
    "        ('poly_feats', PolynomialFeatures(degree=20)),\n",
    "        ('ridge', Ridge(alpha = alpha))\n",
    "    ])\n",
    "    model.fit(x1, x2)\n",
    "    return model.predict(x1)\n",
    "\n",
    "alphas = [0, 10, 250]\n",
    "cs = ['r', 'g', 'b']\n",
    "\n",
    "plt.figure(figsize=(10, 6))\n",
    "plt.plot(x1, x2, 'b+', label='Datapoints')\n",
    "\n",
    "for alpha, c in zip(alphas, cs):\n",
    "    preds = get_preds_ridge(x1, x2, alpha)\n",
    "    #plot\n",
    "    plt.plot(sorted(x1[:,0]), preds[np.argsort(x1[:, 0])], c, label=\"alpha: {}\".format(alpha))\n",
    "\n",
    "plt.legend()\n",
    "plt.show()                              "
   ]
  },
  {
   "cell_type": "markdown",
   "id": "2304e60e-5bbf-470b-a48b-816a8181a193",
   "metadata": {},
   "source": [
    "* red - overfitting\n",
    "* blue - underfitting\n",
    "* green - avg line"
   ]
  },
  {
   "cell_type": "code",
   "execution_count": null,
   "id": "579087dc-f161-4dea-bb43-34c22cc83a03",
   "metadata": {},
   "outputs": [],
   "source": []
  }
 ],
 "metadata": {
  "kernelspec": {
   "display_name": "Python 3 (ipykernel)",
   "language": "python",
   "name": "python3"
  },
  "language_info": {
   "codemirror_mode": {
    "name": "ipython",
    "version": 3
   },
   "file_extension": ".py",
   "mimetype": "text/x-python",
   "name": "python",
   "nbconvert_exporter": "python",
   "pygments_lexer": "ipython3",
   "version": "3.12.4"
  }
 },
 "nbformat": 4,
 "nbformat_minor": 5
}
