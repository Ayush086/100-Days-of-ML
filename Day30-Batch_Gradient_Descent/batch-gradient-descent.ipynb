{
 "cells": [
  {
   "cell_type": "markdown",
   "id": "24b0caa7-89f1-43d8-a2b0-7fb6b01c9549",
   "metadata": {},
   "source": [
    "*First of all I'm going to perform linear regression on dataset to get the actual values so that afterwards we can compare it.*"
   ]
  },
  {
   "cell_type": "code",
   "execution_count": null,
   "id": "eb977b98-7819-4e8a-bbd1-40956175eac2",
   "metadata": {},
   "outputs": [],
   "source": [
    "from sklearn.datasets import load_diabetes # built-in datasets\n",
    "\n",
    "import numpy as np\n",
    "from sklearn.linear_model import LinearRegression\n",
    "from sklearn.metrics import r2_score\n",
    "from sklearn.model_selection import train_test_split\n",
    "\n",
    "import time"
   ]
  },
  {
   "cell_type": "code",
   "execution_count": null,
   "id": "3781c42f-7623-4a92-99e4-4caf787e3a6e",
   "metadata": {},
   "outputs": [],
   "source": [
    "X, y = load_diabetes(return_X_y=True) # fetching already present data"
   ]
  },
  {
   "cell_type": "code",
   "execution_count": null,
   "id": "c86f583c-2b17-44fa-aecb-82c6adfdb95f",
   "metadata": {},
   "outputs": [],
   "source": [
    "print(X.shape)\n",
    "print(y.shape)"
   ]
  },
  {
   "cell_type": "code",
   "execution_count": null,
   "id": "bffd44fb-552d-45e1-bca1-aa7a10ecbbf4",
   "metadata": {},
   "outputs": [],
   "source": [
    "# train test split\n",
    "X_train, X_test, y_train, y_test = train_test_split(X, y, test_size=.2, random_state=2)"
   ]
  },
  {
   "cell_type": "code",
   "execution_count": null,
   "id": "280246bc-7d7f-4a7a-971c-617894079a73",
   "metadata": {},
   "outputs": [],
   "source": [
    "# model training\n",
    "reg = LinearRegression()\n",
    "reg.fit(X_train, y_train)"
   ]
  },
  {
   "cell_type": "code",
   "execution_count": null,
   "id": "86567270-022c-4545-8b85-6bcc535c4ba4",
   "metadata": {},
   "outputs": [],
   "source": [
    "# get the Beta values\n",
    "print(reg.coef_)\n",
    "print(reg.intercept_)"
   ]
  },
  {
   "cell_type": "code",
   "execution_count": null,
   "id": "513451dc-7221-4c1b-8ff3-6c3d492fc6ff",
   "metadata": {},
   "outputs": [],
   "source": [
    "# check the accuray\n",
    "y_pred = reg.predict(X_test)\n",
    "r2_score(y_test, y_pred)"
   ]
  },
  {
   "cell_type": "markdown",
   "id": "19fd54a6-2647-4663-9a34-4a21507b54c4",
   "metadata": {},
   "source": [
    "## Defining our own Class"
   ]
  },
  {
   "cell_type": "code",
   "execution_count": null,
   "id": "3bd77192-125d-480a-8d51-43459f5568b9",
   "metadata": {},
   "outputs": [],
   "source": [
    "class batchGD:\n",
    "    # constructor\n",
    "    def __init__(self, learning_rate = 0.1, epochs = 50):\n",
    "        self.coef_ = None\n",
    "        self.intercept_ = None\n",
    "        self.lr = learning_rate\n",
    "        self.epochs = epochs\n",
    "\n",
    "    def fit(self, X_train, y_train):\n",
    "        # initialize the coefficients\n",
    "        self.intercept_ = 0 # initial state\n",
    "        # get the no. of cols to determine count to betas\n",
    "        self.coef_ = np.ones(X_train.shape[1])\n",
    "        # print(self.coef_)\n",
    "\n",
    "        # run the epoch loop\n",
    "        for i in range(self.epochs): \n",
    "            # intercept value\n",
    "            # Vectorization\n",
    "            y_hat = np.dot(X_train, self.coef_) + self.intercept_\n",
    "            intercept_derivative = -2 * np.mean(y_train - y_hat)\n",
    "            self.intercept_ = self.intercept_ - (self.lr * intercept_derivative)\n",
    "\n",
    "            # coefs value\n",
    "            coeff_derivative = -2 * np.dot((y_train - y_hat), X_train)/X_train.shape[0]\n",
    "            self.coef_ = self.coef_ - (self.lr * coeff_derivative)\n",
    "        print(self.intercept_)\n",
    "        print(self.coef_)\n",
    "        \n",
    "    def predict(self, X_test):\n",
    "        return np.dot(X_test, self.coef_) + self.intercept_\n",
    "        "
   ]
  },
  {
   "cell_type": "markdown",
   "id": "9886bcf8-92da-4834-98ee-2f231cf9ba8a",
   "metadata": {},
   "source": [
    "### Imp Calc\n",
    "- y_hat = b_0 + B1x_i1 + B2x_i2 + B3x_i3 + ...\n",
    "- y_hat = b_0 + [ x_i1  x_i2 x_i3 ] . [B1 B2 B3] (hz matrix)\n",
    "\n",
    "Therefore,\n",
    "#### **y_hat = b_0 + np.dot(coef_ , X_train_i)**"
   ]
  },
  {
   "cell_type": "code",
   "execution_count": null,
   "id": "9c69ded4-33cf-423f-a810-f273ad60e7f7",
   "metadata": {},
   "outputs": [],
   "source": [
    "bgd = batchGD(epochs = 1000, learning_rate=.7)"
   ]
  },
  {
   "cell_type": "code",
   "execution_count": null,
   "id": "791a260a-320c-4e2e-9c7d-8dcf03ff8bde",
   "metadata": {},
   "outputs": [],
   "source": [
    "start = time.time()\n",
    "bgd.fit(X_train, y_train)\n",
    "end = time.time()\n",
    "print(\"time taken: \", end - start)"
   ]
  },
  {
   "cell_type": "code",
   "execution_count": null,
   "id": "3e1a20fa-742c-41ed-9cb1-6addee762880",
   "metadata": {},
   "outputs": [],
   "source": [
    "y_pred = bgd.predict(X_test)"
   ]
  },
  {
   "cell_type": "code",
   "execution_count": null,
   "id": "520fbfe8-f230-46c7-abeb-bee06ee28849",
   "metadata": {},
   "outputs": [],
   "source": [
    "r2_score(y_test, y_pred)"
   ]
  },
  {
   "cell_type": "markdown",
   "id": "bb943993-2222-4a25-aa36-d528892816d1",
   "metadata": {},
   "source": [
    "values are different and need to refine it and also the learning rate and epochs count value also matter here that's why we are getting low accuracy"
   ]
  },
  {
   "cell_type": "code",
   "execution_count": null,
   "id": "55d3561b-7e77-4adf-af97-73ec3b0212a9",
   "metadata": {},
   "outputs": [],
   "source": []
  }
 ],
 "metadata": {
  "kernelspec": {
   "display_name": "Python 3 (ipykernel)",
   "language": "python",
   "name": "python3"
  },
  "language_info": {
   "codemirror_mode": {
    "name": "ipython",
    "version": 3
   },
   "file_extension": ".py",
   "mimetype": "text/x-python",
   "name": "python",
   "nbconvert_exporter": "python",
   "pygments_lexer": "ipython3",
   "version": "3.12.4"
  }
 },
 "nbformat": 4,
 "nbformat_minor": 5
}
